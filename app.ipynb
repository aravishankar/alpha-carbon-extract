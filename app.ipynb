{
 "cells": [
  {
   "cell_type": "code",
   "execution_count": 30,
   "metadata": {},
   "outputs": [
    {
     "ename": "ModuleNotFoundError",
     "evalue": "No module named 'skbio'",
     "output_type": "error",
     "traceback": [
      "\u001b[1;31m---------------------------------------------------------------------------\u001b[0m",
      "\u001b[1;31mModuleNotFoundError\u001b[0m                       Traceback (most recent call last)",
      "\u001b[1;32m<ipython-input-30-eee9ccf9bef3>\u001b[0m in \u001b[0;36m<module>\u001b[1;34m\u001b[0m\n\u001b[0;32m      1\u001b[0m \u001b[1;32mfrom\u001b[0m \u001b[0mBio\u001b[0m\u001b[1;33m.\u001b[0m\u001b[0mPDB\u001b[0m \u001b[1;32mimport\u001b[0m \u001b[1;33m*\u001b[0m\u001b[1;33m\u001b[0m\u001b[1;33m\u001b[0m\u001b[0m\n\u001b[0;32m      2\u001b[0m \u001b[1;32mimport\u001b[0m \u001b[0mre\u001b[0m\u001b[1;33m\u001b[0m\u001b[1;33m\u001b[0m\u001b[0m\n\u001b[1;32m----> 3\u001b[1;33m \u001b[1;32mfrom\u001b[0m \u001b[0mskbio\u001b[0m \u001b[1;32mimport\u001b[0m \u001b[0mDistanceMatrix\u001b[0m\u001b[1;33m\u001b[0m\u001b[1;33m\u001b[0m\u001b[0m\n\u001b[0m\u001b[0;32m      4\u001b[0m \u001b[1;33m\u001b[0m\u001b[0m\n\u001b[0;32m      5\u001b[0m \u001b[0mparser\u001b[0m \u001b[1;33m=\u001b[0m \u001b[0mPDBParser\u001b[0m\u001b[1;33m(\u001b[0m\u001b[1;33m)\u001b[0m\u001b[1;33m\u001b[0m\u001b[1;33m\u001b[0m\u001b[0m\n",
      "\u001b[1;31mModuleNotFoundError\u001b[0m: No module named 'skbio'"
     ]
    }
   ],
   "source": [
    "from Bio.PDB import *\n",
    "import re\n",
    "from skbio import DistanceMatrix\n",
    "\n",
    "parser = PDBParser()\n",
    "io=PDBIO()\n",
    "chainz = []\n",
    "coords = []\n",
    "labels = []\n",
    "fileName = \"\"\n",
    "\n",
    "valid = 1\n",
    "while valid > 0:\n",
    "    try:\n",
    "        fileName = input(\"Enter name of PDB file:\")\n",
    "        structure = parser.get_structure('4HHB', fileName + '.pdb')\n",
    "        break\n",
    "    except:\n",
    "        print(\"Invalid file name, try again\")\n",
    "\n",
    "getAlphaCarbons(fileName)\n",
    "# getCoordinates()\n",
    "\n",
    "def getAlphaCarbons(fileName):\n",
    "    fw = open('ac.txt', 'w')\n",
    "    fr = open(fileName + '.pdb', 'r')\n",
    "\n",
    "    for line in fr:\n",
    "        if(re.search(r'^ATOM\\s+\\d+\\s+CA\\s+', line)):\n",
    "            fw.write(line)\n",
    "\n",
    "    fw.close()\n",
    "    fr.close()\n",
    "\n",
    "# def getCoordinates():\n",
    "fh = open('ac.txt', 'r')    \n",
    "for line in fh:\n",
    "    items = line.split()\n",
    "    coords.append([items[6], items[7], items[8]])\n",
    "    labels.append(items[5])\n",
    "    \n",
    "    \n",
    "print(labels)"
   ]
  },
  {
   "cell_type": "code",
   "execution_count": null,
   "metadata": {},
   "outputs": [],
   "source": []
  },
  {
   "cell_type": "code",
   "execution_count": null,
   "metadata": {},
   "outputs": [],
   "source": []
  }
 ],
 "metadata": {
  "kernelspec": {
   "display_name": "Python 3",
   "language": "python",
   "name": "python3"
  },
  "language_info": {
   "codemirror_mode": {
    "name": "ipython",
    "version": 3
   },
   "file_extension": ".py",
   "mimetype": "text/x-python",
   "name": "python",
   "nbconvert_exporter": "python",
   "pygments_lexer": "ipython3",
   "version": "3.7.4"
  }
 },
 "nbformat": 4,
 "nbformat_minor": 2
}
