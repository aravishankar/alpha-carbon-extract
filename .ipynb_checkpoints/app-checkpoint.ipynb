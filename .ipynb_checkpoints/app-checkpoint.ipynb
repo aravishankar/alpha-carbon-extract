{
 "cells": [
  {
   "cell_type": "code",
   "execution_count": 1,
   "metadata": {},
   "outputs": [
    {
     "name": "stdout",
     "output_type": "stream",
     "text": [
      "Enter name of PDB file:4hhb\n"
     ]
    },
    {
     "name": "stderr",
     "output_type": "stream",
     "text": [
      "C:\\Users\\outra\\Anaconda3\\lib\\site-packages\\Bio\\PDB\\StructureBuilder.py:92: PDBConstructionWarning: WARNING: Chain A is discontinuous at line 5328.\n",
      "  PDBConstructionWarning,\n",
      "C:\\Users\\outra\\Anaconda3\\lib\\site-packages\\Bio\\PDB\\StructureBuilder.py:92: PDBConstructionWarning: WARNING: Chain B is discontinuous at line 5371.\n",
      "  PDBConstructionWarning,\n",
      "C:\\Users\\outra\\Anaconda3\\lib\\site-packages\\Bio\\PDB\\StructureBuilder.py:92: PDBConstructionWarning: WARNING: Chain C is discontinuous at line 5415.\n",
      "  PDBConstructionWarning,\n",
      "C:\\Users\\outra\\Anaconda3\\lib\\site-packages\\Bio\\PDB\\StructureBuilder.py:92: PDBConstructionWarning: WARNING: Chain D is discontinuous at line 5458.\n",
      "  PDBConstructionWarning,\n",
      "C:\\Users\\outra\\Anaconda3\\lib\\site-packages\\Bio\\PDB\\StructureBuilder.py:92: PDBConstructionWarning: WARNING: Chain A is discontinuous at line 5502.\n",
      "  PDBConstructionWarning,\n",
      "C:\\Users\\outra\\Anaconda3\\lib\\site-packages\\Bio\\PDB\\StructureBuilder.py:92: PDBConstructionWarning: WARNING: Chain B is discontinuous at line 5558.\n",
      "  PDBConstructionWarning,\n",
      "C:\\Users\\outra\\Anaconda3\\lib\\site-packages\\Bio\\PDB\\StructureBuilder.py:92: PDBConstructionWarning: WARNING: Chain C is discontinuous at line 5615.\n",
      "  PDBConstructionWarning,\n",
      "C:\\Users\\outra\\Anaconda3\\lib\\site-packages\\Bio\\PDB\\StructureBuilder.py:92: PDBConstructionWarning: WARNING: Chain D is discontinuous at line 5674.\n",
      "  PDBConstructionWarning,\n"
     ]
    },
    {
     "data": {
      "text/plain": [
       "<Figure size 640x480 with 1 Axes>"
      ]
     },
     "metadata": {},
     "output_type": "display_data"
    }
   ],
   "source": [
    "from Bio.PDB import *\n",
    "import re\n",
    "import matplotlib.pyplot as plt\n",
    "# from skbio import DistanceMatrix\n",
    "\n",
    "parser = PDBParser()\n",
    "io=PDBIO()\n",
    "chainz = []\n",
    "coords = []\n",
    "labels = []\n",
    "fileName = \"\"\n",
    "\n",
    "valid = 1\n",
    "while valid > 0:\n",
    "    try:\n",
    "        fileName = input(\"Enter name of PDB file:\")\n",
    "        structure = parser.get_structure('4HHB', fileName + '.pdb')\n",
    "        break\n",
    "    except:\n",
    "        print(\"Invalid file name, try again\")\n",
    "\n",
    "# getCoordinates()\n",
    "\n",
    "def getAlphaCarbons(fileName):\n",
    "    fw = open('ac.txt', 'w')\n",
    "    fr = open(fileName + '.pdb', 'r')\n",
    "\n",
    "    for line in fr:\n",
    "        if(re.search(r'^ATOM\\s+\\d+\\s+CA\\s+', line)):\n",
    "            fw.write(line)\n",
    "\n",
    "    fw.close()\n",
    "    fr.close()\n",
    "\n",
    "def getCoordinates():\n",
    "    fh = open('ac.txt', 'r')    \n",
    "    for line in fh:\n",
    "        items = line.split()\n",
    "        coords.append([items[6], items[7], items[8]])\n",
    "        labels.append(items[5])\n",
    "\n",
    "getAlphaCarbons(fileName)\n",
    "getCoordinates()\n",
    "\n",
    "for coord in coords:\n",
    "    plt.plot(coord)\n",
    "plt.show();\n"
   ]
  },
  {
   "cell_type": "code",
   "execution_count": null,
   "metadata": {},
   "outputs": [],
   "source": []
  }
 ],
 "metadata": {
  "kernelspec": {
   "display_name": "Python 3",
   "language": "python",
   "name": "python3"
  },
  "language_info": {
   "codemirror_mode": {
    "name": "ipython",
    "version": 3
   },
   "file_extension": ".py",
   "mimetype": "text/x-python",
   "name": "python",
   "nbconvert_exporter": "python",
   "pygments_lexer": "ipython3",
   "version": "3.7.4"
  }
 },
 "nbformat": 4,
 "nbformat_minor": 2
}
