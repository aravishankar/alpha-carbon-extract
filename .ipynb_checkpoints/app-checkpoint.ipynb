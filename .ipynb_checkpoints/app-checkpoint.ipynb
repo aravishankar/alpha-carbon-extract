{
 "cells": [
  {
   "cell_type": "code",
   "execution_count": 23,
   "metadata": {},
   "outputs": [
    {
     "name": "stdout",
     "output_type": "stream",
     "text": [
      "Enter name of PDB file:4hhb\n"
     ]
    },
    {
     "name": "stderr",
     "output_type": "stream",
     "text": [
      "C:\\Users\\outra\\Anaconda3\\lib\\site-packages\\Bio\\PDB\\StructureBuilder.py:92: PDBConstructionWarning: WARNING: Chain A is discontinuous at line 5328.\n",
      "  PDBConstructionWarning,\n",
      "C:\\Users\\outra\\Anaconda3\\lib\\site-packages\\Bio\\PDB\\StructureBuilder.py:92: PDBConstructionWarning: WARNING: Chain B is discontinuous at line 5371.\n",
      "  PDBConstructionWarning,\n",
      "C:\\Users\\outra\\Anaconda3\\lib\\site-packages\\Bio\\PDB\\StructureBuilder.py:92: PDBConstructionWarning: WARNING: Chain C is discontinuous at line 5415.\n",
      "  PDBConstructionWarning,\n",
      "C:\\Users\\outra\\Anaconda3\\lib\\site-packages\\Bio\\PDB\\StructureBuilder.py:92: PDBConstructionWarning: WARNING: Chain D is discontinuous at line 5458.\n",
      "  PDBConstructionWarning,\n",
      "C:\\Users\\outra\\Anaconda3\\lib\\site-packages\\Bio\\PDB\\StructureBuilder.py:92: PDBConstructionWarning: WARNING: Chain A is discontinuous at line 5502.\n",
      "  PDBConstructionWarning,\n",
      "C:\\Users\\outra\\Anaconda3\\lib\\site-packages\\Bio\\PDB\\StructureBuilder.py:92: PDBConstructionWarning: WARNING: Chain B is discontinuous at line 5558.\n",
      "  PDBConstructionWarning,\n",
      "C:\\Users\\outra\\Anaconda3\\lib\\site-packages\\Bio\\PDB\\StructureBuilder.py:92: PDBConstructionWarning: WARNING: Chain C is discontinuous at line 5615.\n",
      "  PDBConstructionWarning,\n",
      "C:\\Users\\outra\\Anaconda3\\lib\\site-packages\\Bio\\PDB\\StructureBuilder.py:92: PDBConstructionWarning: WARNING: Chain D is discontinuous at line 5674.\n",
      "  PDBConstructionWarning,\n"
     ]
    },
    {
     "ename": "NameError",
     "evalue": "name 'getXYZ' is not defined",
     "output_type": "error",
     "traceback": [
      "\u001b[1;31m---------------------------------------------------------------------------\u001b[0m",
      "\u001b[1;31mNameError\u001b[0m                                 Traceback (most recent call last)",
      "\u001b[1;32m<ipython-input-23-95f8c03b5343>\u001b[0m in \u001b[0;36m<module>\u001b[1;34m\u001b[0m\n\u001b[0;32m     19\u001b[0m \u001b[1;33m\u001b[0m\u001b[0m\n\u001b[0;32m     20\u001b[0m \u001b[0mgetAlphaCarbons\u001b[0m\u001b[1;33m(\u001b[0m\u001b[0mfileName\u001b[0m\u001b[1;33m)\u001b[0m\u001b[1;33m\u001b[0m\u001b[1;33m\u001b[0m\u001b[0m\n\u001b[1;32m---> 21\u001b[1;33m \u001b[0mgetXYZ\u001b[0m\u001b[1;33m(\u001b[0m\u001b[1;33m)\u001b[0m\u001b[1;33m\u001b[0m\u001b[1;33m\u001b[0m\u001b[0m\n\u001b[0m\u001b[0;32m     22\u001b[0m \u001b[1;33m\u001b[0m\u001b[0m\n\u001b[0;32m     23\u001b[0m \u001b[1;32mdef\u001b[0m \u001b[0mgetAlphaCarbons\u001b[0m\u001b[1;33m(\u001b[0m\u001b[0mfileName\u001b[0m\u001b[1;33m)\u001b[0m\u001b[1;33m:\u001b[0m\u001b[1;33m\u001b[0m\u001b[1;33m\u001b[0m\u001b[0m\n",
      "\u001b[1;31mNameError\u001b[0m: name 'getXYZ' is not defined"
     ]
    }
   ],
   "source": [
    "from Bio.PDB import *\n",
    "import re\n",
    "\n",
    "parser = PDBParser()\n",
    "io=PDBIO()\n",
    "chainz = []\n",
    "coords = []\n",
    "labels = []\n",
    "fileName = \"\"\n",
    "\n",
    "valid = 1\n",
    "while valid > 0:\n",
    "    try:\n",
    "        fileName = input(\"Enter name of PDB file:\")\n",
    "        structure = parser.get_structure('4HHB', fileName + '.pdb')\n",
    "        break\n",
    "    except:\n",
    "        print(\"Invalid file name, try again\")\n",
    "\n",
    "getAlphaCarbons(fileName)\n",
    "getCoordinates()\n",
    "\n",
    "def getAlphaCarbons(fileName):\n",
    "    fw = open('ac.txt', 'w')\n",
    "    fr = open(fileName + '.pdb', 'r')\n",
    "\n",
    "    for line in fr:\n",
    "        if(re.search(r'^ATOM\\s+\\d+\\s+CA\\s+', line)):\n",
    "            fw.write(line)\n",
    "\n",
    "    fw.close()\n",
    "    fr.close()\n",
    "\n",
    "def getCoordinates():\n",
    "    fr = open('ac.txt', 'r')\n",
    "    \n",
    "    for line in fr:\n",
    "        items = line.split()\n",
    "        print(items)\n",
    "    \n",
    "    \n",
    "    "
   ]
  },
  {
   "cell_type": "code",
   "execution_count": null,
   "metadata": {},
   "outputs": [],
   "source": []
  }
 ],
 "metadata": {
  "kernelspec": {
   "display_name": "Python 3",
   "language": "python",
   "name": "python3"
  },
  "language_info": {
   "codemirror_mode": {
    "name": "ipython",
    "version": 3
   },
   "file_extension": ".py",
   "mimetype": "text/x-python",
   "name": "python",
   "nbconvert_exporter": "python",
   "pygments_lexer": "ipython3",
   "version": "3.7.4"
  }
 },
 "nbformat": 4,
 "nbformat_minor": 2
}
